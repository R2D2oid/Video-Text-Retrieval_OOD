{
 "cells": [
  {
   "cell_type": "code",
   "execution_count": 29,
   "metadata": {},
   "outputs": [],
   "source": [
    "from matplotlib import pyplot as plt"
   ]
  },
  {
   "cell_type": "code",
   "execution_count": 30,
   "metadata": {},
   "outputs": [],
   "source": [
    "from IPython.display import display\n",
    "from copy import copy"
   ]
  },
  {
   "cell_type": "code",
   "execution_count": 31,
   "metadata": {},
   "outputs": [],
   "source": [
    "import pandas as pd\n",
    "pd.set_option('display.max_rows', None)\n",
    "pd.set_option('display.max_columns', None)\n",
    "pd.set_option('display.width', None)\n",
    "pd.set_option('display.max_colwidth', -1)"
   ]
  },
  {
   "cell_type": "code",
   "execution_count": 32,
   "metadata": {},
   "outputs": [],
   "source": [
    "import warnings\n",
    "warnings.filterwarnings('ignore')"
   ]
  },
  {
   "cell_type": "code",
   "execution_count": 33,
   "metadata": {},
   "outputs": [],
   "source": [
    "from data_provider import TempuckeyVideoSentencePairsDataset as TempuckeyDataset\n",
    "from data_provider import Normalize_VideoSentencePair\n",
    "from layers.v2t import V2T\n",
    "from eval_v2t import encode_data_v2t, calc_l2_distance, get_metrics , normalize_metrics, load_model\n",
    "import utilities as utils\n",
    "\n",
    "from numpy import linalg\n",
    "import numpy as np\n",
    "import argparse\n",
    "import pdb\n",
    "import torch \n",
    "import math"
   ]
  },
  {
   "cell_type": "code",
   "execution_count": 34,
   "metadata": {},
   "outputs": [],
   "source": [
    "batch_size = 128\n",
    "t_feat_len = 1\n",
    "v_feat_len = 1\n",
    "t_num_feats = 512\n",
    "v_num_feats = 2048\n",
    "\n",
    "data_dir = '/usr/local/data02/zahra/datasets/Tempuckey/sentence_segments'\n",
    "video_feats_dir = 'feats/video/r2plus1d_resnet50_kinetics400'\n",
    "text_feats_path = 'feats/text/universal/sentence_feats.pkl'\n",
    "train_split_path = 'train.split.pkl'\n",
    "valid_split_path = 'valid.split.pkl'\n",
    "test_split_path = 'test.split.pkl'\n",
    "train_valid_path = 'train_valid.split.pkl'\n",
    "repo_dir = '/usr/local/extstore01/zahra/Video-Text-Retrieval_OOD'\n",
    "output_dir = '/usr/local/extstore01/zahra/Video-Text-Retrieval_OOD/output'\n",
    "experiments_dir = '/usr/local/extstore01/zahra/Video-Text-Retrieval_OOD/output/experiments/v2t'\n",
    "\n",
    "v_feats_dir = f'{data_dir}/{video_feats_dir}'\n",
    "t_feats_path = f'{data_dir}/{text_feats_path}'\n",
    "\n",
    "train_split_path = f'{data_dir}/{train_split_path}'\n",
    "valid_split_path = f'{data_dir}/{valid_split_path}'\n",
    "test_split_path = f'{data_dir}/{test_split_path}'\n",
    "train_valid_split_path = f'{data_dir}/{train_valid_path}'\n",
    "\n",
    "dl_params = {'batch_size': batch_size,\n",
    "    'shuffle': False,\n",
    "    'num_workers': 1}"
   ]
  },
  {
   "cell_type": "code",
   "execution_count": 35,
   "metadata": {},
   "outputs": [],
   "source": [
    "def get_experiment_names(path_):\n",
    "    names = utils.get_filenames(path_)\n",
    "    experiment_names = [p for p in names if p[:10]=='experiment']\n",
    "    \n",
    "    return experiment_names"
   ]
  },
  {
   "cell_type": "code",
   "execution_count": 36,
   "metadata": {},
   "outputs": [],
   "source": [
    "def get_results(experiment_names):\n",
    "    results = []\n",
    "    relevance_scores = [round(i,1) for i in np.arange(0,0.8,.1)]\n",
    "    for relevance_score in relevance_scores:\n",
    "        data_ids = utils.load_picklefile(split_path)\n",
    "        dataset = TempuckeyDataset(v_feats_dir, t_feats_path, data_ids, video_feat_seq_len=1, sent_feat_seq_len=1, transform=None, relevance_score=relevance_score)\n",
    "        data_loader = torch.utils.data.DataLoader(dataset, **dl_params)\n",
    "\n",
    "        if data_loader.__len__()<1:\n",
    "            print('dataset is empty!')\n",
    "            continue\n",
    "        for experiment_name in experiment_names:\n",
    "            model_v_path = f'{experiments_dir}/{experiment_name}/model_v_{experiment_name}.sd'\n",
    "            model_v2t = load_model(model_v_path, v_num_feats)\n",
    "\n",
    "            ids, pred_t, orig_t = encode_data_v2t(data_loader, model_v2t)\n",
    "\n",
    "            dist_matrix_v2t = calc_l2_distance(orig_t, pred_t)\n",
    "            metrics_v2t, ranks_v2t = get_metrics(dist_matrix_v2t)\n",
    "\n",
    "            exp_metrics = normalize_metrics(metrics_v2t, n_samples_experiment = dataset.__len__())\n",
    "            temp = [experiment_name, relevance_score]\n",
    "            temp.extend(exp_metrics)\n",
    "\n",
    "            results.append(temp)\n",
    "\n",
    "    return results"
   ]
  },
  {
   "cell_type": "code",
   "execution_count": 37,
   "metadata": {},
   "outputs": [],
   "source": [
    "def add_columns_to_df(df):\n",
    "    # add loss_type as a column\n",
    "    df['loss_type'] = 'unk'\n",
    "    df.loc[df['experiment'].str.contains('contrastive'),'loss_type'] = 'cont'\n",
    "    df.loc[df['experiment'].str.contains('mse'),'loss_type'] = 'mse'\n",
    "\n",
    "    # add relevance score at training as a new column\n",
    "    df['relevance_train'] = 0\n",
    "    relevance_scores = [str(round(i,1)) for i in np.arange(0,0.8,.1)]\n",
    "\n",
    "    for th in relevance_scores:\n",
    "        val = f'_relevance_{th}_1x512_1x2048'\n",
    "        df.loc[df['experiment'].str.contains(val),'relevance_train'] = th\n",
    "    \n",
    "    return df"
   ]
  },
  {
   "cell_type": "code",
   "execution_count": 38,
   "metadata": {},
   "outputs": [],
   "source": [
    "experiment_names = []\n",
    "experiment_names.extend(get_experiment_names(experiments_dir))"
   ]
  },
  {
   "cell_type": "markdown",
   "metadata": {},
   "source": [
    "## Results on Test split"
   ]
  },
  {
   "cell_type": "code",
   "execution_count": 15,
   "metadata": {},
   "outputs": [
    {
     "name": "stdout",
     "output_type": "stream",
     "text": [
      "len dataset: 372\n",
      "len dataset: 359\n",
      "len dataset: 340\n",
      "len dataset: 126\n",
      "len dataset: 126\n",
      "len dataset: 119\n",
      "len dataset: 110\n",
      "len dataset: 15\n"
     ]
    }
   ],
   "source": [
    "split_path = test_split_path\n",
    "results_test = get_results(experiment_names)\n",
    "results_test = pd.DataFrame(results_test, columns = ['experiment', 'relevance', 'R@1', 'R@5', 'R@10', 'MeanRank', 'MedRank'])\n",
    "\n",
    "df = copy(results_test)"
   ]
  },
  {
   "cell_type": "code",
   "execution_count": 16,
   "metadata": {},
   "outputs": [],
   "source": [
    "df = add_columns_to_df(df)"
   ]
  },
  {
   "cell_type": "code",
   "execution_count": 17,
   "metadata": {},
   "outputs": [],
   "source": [
    "# get max results per category loss_type, relevance_train, relevance\n",
    "# stats = ['mean', 'max']\n",
    "stats = ['max']\n",
    "series_max = df.groupby(['loss_type','relevance_train']).agg({'R@1': stats ,'R@5': stats,'R@10': stats})\n",
    "df_max_r_1 = pd.DataFrame(series_max['R@1']['max'])\n",
    "df_max_r_5 = pd.DataFrame(series_max['R@5']['max'])\n",
    "df_max_r_10 = pd.DataFrame(series_max['R@10']['max'])"
   ]
  },
  {
   "cell_type": "code",
   "execution_count": 20,
   "metadata": {},
   "outputs": [],
   "source": [
    "noise_th_training = [round(i,1) for i in np.arange(0,0.8,.1)]\n",
    "noise_th_training\n",
    "\n",
    "dataset_size = [2104, 2026, 1919, 684, 684, 629, 581, 81]"
   ]
  },
  {
   "cell_type": "code",
   "execution_count": 21,
   "metadata": {},
   "outputs": [],
   "source": [
    "# recall@1 top results\n",
    "r_at_1 = {}\n",
    "r_at_1['cont'] = {}\n",
    "r_at_1['mse'] = {}\n",
    "for i in range(len(df_max_r_1)):\n",
    "    l,th = df_max_r_1.iloc[i].name\n",
    "    r_at_1[l][th] = float(df_max_r_1.iloc[i])\n",
    "    \n",
    "# recall@5 top results\n",
    "r_at_5 = {}\n",
    "r_at_5['cont'] = {}\n",
    "r_at_5['mse'] = {}\n",
    "for i in range(len(df_max_r_5)):\n",
    "    l,th = df_max_r_5.iloc[i].name\n",
    "    r_at_5[l][th] = float(df_max_r_5.iloc[i])\n",
    "    \n",
    "# recall@10 top results\n",
    "r_at_10 = {}\n",
    "r_at_10['cont'] = {}\n",
    "r_at_10['mse'] = {}\n",
    "for i in range(len(df_max_r_10)):\n",
    "    l,th = df_max_r_10.iloc[i].name\n",
    "    r_at_10[l][th] = float(df_max_r_10.iloc[i])\n",
    "    "
   ]
  },
  {
   "cell_type": "code",
   "execution_count": 22,
   "metadata": {},
   "outputs": [],
   "source": [
    "def plot_performance_data_size_vs_noise(x,y,z, cmap='Accent'):\n",
    "    '''\n",
    "    x: np.array noise thresholds\n",
    "    y: np.array scaled performance values\n",
    "    z: np.array scaled dataset size\n",
    "    '''\n",
    "    plt.figure(1, figsize=(6, 6), dpi=80)\n",
    "    \n",
    "    plt.plot(x, y, color='b', label='recall@1')\n",
    "    plt.plot(x, z, color='r', label='dataset-size')\n",
    "    plt.scatter(x, z, c = x, cmap=cmap, s=80)\n",
    "    \n",
    "    # plt.title = 'recall at K vs. noise'\n",
    "\n",
    "    plt.xlabel = 'noise-level'\n",
    "    plt.ylabel = 'recall@1'\n",
    "\n",
    "    plt.legend()\n",
    "\n",
    "    cbar = plt.colorbar(orientation='horizontal', extend = 'neither', ticks = [])\n",
    "\n",
    "    ax = plt.gca()\n",
    "    ax.set_xlabel('noise-level')\n",
    "    ax.set_ylabel('scaled performance')\n",
    "\n",
    "    plt.show()"
   ]
  },
  {
   "cell_type": "code",
   "execution_count": 23,
   "metadata": {},
   "outputs": [],
   "source": [
    "def plot_performance_data_size_vs_noise_combined(x,y1,y2,z, cmap='Accent'):\n",
    "    '''\n",
    "    x: np.array noise thresholds\n",
    "    y: np.array scaled performance values\n",
    "    z: np.array scaled dataset size\n",
    "    '''\n",
    "    plt.figure(1, figsize=(7, 7), dpi=80)\n",
    "    \n",
    "    plt.plot(x, y1, color='g', label='MLP-6 (mse)')\n",
    "    plt.plot(x, y2, color='b', label='MLP-6 (contrastive)')\n",
    "    plt.plot(x, z, color='r', label='dataset-size')\n",
    "    plt.scatter(x, z, c = x, cmap=cmap, s=80)\n",
    "    \n",
    "    # plt.title = 'recall at K vs. noise'\n",
    "\n",
    "    plt.xlabel = 'noise-level'\n",
    "    plt.ylabel = 'recall@1'\n",
    "\n",
    "    plt.legend()\n",
    "\n",
    "    cbar = plt.colorbar(orientation='horizontal', extend = 'neither', ticks = [])\n",
    "\n",
    "    ax = plt.gca()\n",
    "    ax.set_xlabel('noise-level')\n",
    "    ax.set_ylabel('scaled performance')\n",
    "\n",
    "    plt.show()"
   ]
  },
  {
   "cell_type": "code",
   "execution_count": 24,
   "metadata": {},
   "outputs": [],
   "source": [
    "def get_max_results(data = [r_at_1, r_at_5, r_at_10], loss_type = 'mse', k = '1'):\n",
    "    if k == '1':\n",
    "        return data[0][loss_type]\n",
    "    elif k == '5':\n",
    "        return data[1][loss_type]\n",
    "    elif k == '10':\n",
    "        return data[2][loss_type]\n",
    "    else:\n",
    "        print ('Unknown K!!')\n",
    "        return None\n",
    "    "
   ]
  },
  {
   "cell_type": "code",
   "execution_count": 25,
   "metadata": {},
   "outputs": [],
   "source": [
    "def recall_data_to_xyz(recall_data, dataset_size):\n",
    "\n",
    "    x = np.array([10-r for r in range(len(recall_data.keys()))])\n",
    "\n",
    "    y = np.array([float(r) for r in recall_data.values()])\n",
    "\n",
    "    dataset_size = np.array(dataset_size)\n",
    "    dataset_size_normed = dataset_size/dataset_size.max()\n",
    "    z = dataset_size_normed\n",
    "\n",
    "    assert len(x)==len(y) and len(x)==len(z)\n",
    "    \n",
    "    return x,y,z\n"
   ]
  },
  {
   "cell_type": "code",
   "execution_count": 44,
   "metadata": {},
   "outputs": [
    {
     "data": {
      "image/png": "[encoded data removed]",
      "text/plain": [
       "<Figure size 560x560 with 2 Axes>"
      ]
     },
     "metadata": {},
     "output_type": "display_data"
    }
   ],
   "source": [
    "for k in ['1']:#,'5','10']:\n",
    "    data = [r_at_1, r_at_5, r_at_10]\n",
    "\n",
    "    # mse\n",
    "    recall_data = get_max_results(data, loss_type = 'mse', k=k)\n",
    "    x,y1,z = recall_data_to_xyz(recall_data, dataset_size)\n",
    "\n",
    "    # contrastive\n",
    "    recall_data = get_max_results(data, loss_type = 'cont', k=k)\n",
    "    x,y2,z = recall_data_to_xyz(recall_data, dataset_size)\n",
    "\n",
    "    y_max = max(y1.max(),y2.max())\n",
    "    y1 = y1/y_max\n",
    "    y2 = y2/y_max\n",
    "\n",
    "    plot_performance_data_size_vs_noise_combined(x,y1,y2,z,cmap='OrRd')\n"
   ]
  },
  {
   "cell_type": "code",
   "execution_count": 45,
   "metadata": {},
   "outputs": [
    {
     "data": {
      "image/png": "[encoded data removed]",
      "text/plain": [
       "<Figure size 480x480 with 2 Axes>"
      ]
     },
     "metadata": {},
     "output_type": "display_data"
    },
    {
     "data": {
      "image/png": "[encoded data removed]",
      "text/plain": [
       "<Figure size 480x480 with 2 Axes>"
      ]
     },
     "metadata": {},
     "output_type": "display_data"
    }
   ],
   "source": [
    "for k in ['1']: #,'5','10']:\n",
    "    data = [r_at_1, r_at_5, r_at_10]\n",
    "\n",
    "    # mse\n",
    "    recall_data = get_max_results(data, loss_type = 'mse', k=k)\n",
    "    x,y1,z = recall_data_to_xyz(recall_data, dataset_size)\n",
    "\n",
    "    # contrastive\n",
    "    recall_data = get_max_results(data, loss_type = 'cont', k=k)\n",
    "    x,y2,z = recall_data_to_xyz(recall_data, dataset_size)\n",
    "\n",
    "    y_max = max(y1.max(),y2.max())\n",
    "    y1 = y1/y_max\n",
    "    y2 = y2/y_max\n",
    "\n",
    "    plot_performance_data_size_vs_noise(x,y1,z,cmap='OrRd')\n",
    "    \n",
    "    plot_performance_data_size_vs_noise(x,y2,z,cmap='OrRd')\n"
   ]
  },
  {
   "cell_type": "code",
   "execution_count": 39,
   "metadata": {},
   "outputs": [],
   "source": [
    "import pickle as pkl\n",
    "\n",
    "test_recall_max_path = f'{output_dir}/results/test_recall_max.pkl'\n",
    "test_recall_df_path = f'{output_dir}/results/test_recall_df.pkl'\n",
    "pkl.dump(series_max, open(test_recall_max_path,'wb'))\n",
    "pkl.dump(df, open(test_recall_df_path,'wb'))"
   ]
  },
  {
   "cell_type": "code",
   "execution_count": null,
   "metadata": {},
   "outputs": [],
   "source": []
  },
  {
   "cell_type": "code",
   "execution_count": null,
   "metadata": {},
   "outputs": [],
   "source": []
  },
  {
   "cell_type": "code",
   "execution_count": 46,
   "metadata": {},
   "outputs": [],
   "source": [
    "\n",
    "# split_path = train_valid_split_path\n",
    "# results_train = get_results(experiment_names)\n",
    "# results_train = pd.DataFrame(results_train, columns = ['experiment', 'relevance', 'R@1', 'R@5', 'R@10', 'MeanRank', 'MedRank'])"
   ]
  },
  {
   "cell_type": "code",
   "execution_count": 40,
   "metadata": {},
   "outputs": [
    {
     "name": "stdout",
     "output_type": "stream",
     "text": [
      "len dataset: 2104\n",
      "\n",
      "len dataset: 2026\n",
      "\n",
      "len dataset: 1919\n",
      "\n",
      "len dataset: 684\n",
      "\n",
      "len dataset: 684\n",
      "\n",
      "len dataset: 629\n",
      "\n",
      "len dataset: 581\n",
      "\n",
      "len dataset: 81\n",
      "\n"
     ]
    }
   ],
   "source": [
    "# split_path = '/usr/local/data02/zahra/datasets/Tempuckey/sentence_segments/train_valid.split.pkl'\n",
    "\n",
    "# data_ids = utils.load_picklefile(split_path)\n",
    "# relevance_scores = [round(i,1) for i in np.arange(0,0.8,.1)]\n",
    "# for relevance_score in relevance_scores:\n",
    "#     dataset = TempuckeyDataset(v_feats_dir, t_feats_path, data_ids, video_feat_seq_len=1, sent_feat_seq_len=1, transform=None, relevance_score=relevance_score)\n",
    "#     data_loader = torch.utils.data.DataLoader(dataset, **dl_params)\n",
    "#     print()"
   ]
  },
  {
   "cell_type": "code",
   "execution_count": null,
   "metadata": {},
   "outputs": [],
   "source": []
  }
 ],
 "metadata": {
  "kernelspec": {
   "display_name": "Python 3",
   "language": "python",
   "name": "python3"
  },
  "language_info": {
   "codemirror_mode": {
    "name": "ipython",
    "version": 3
   },
   "file_extension": ".py",
   "mimetype": "text/x-python",
   "name": "python",
   "nbconvert_exporter": "python",
   "pygments_lexer": "ipython3",
   "version": "3.6.9"
  }
 },
 "nbformat": 4,
 "nbformat_minor": 2
}
